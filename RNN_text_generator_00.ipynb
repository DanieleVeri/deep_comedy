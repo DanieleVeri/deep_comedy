{
 "cells": [
  {
   "cell_type": "code",
   "execution_count": 2,
   "metadata": {
    "colab": {
     "base_uri": "https://localhost:8080/",
     "height": 70
    },
    "colab_type": "code",
    "id": "R8FnhxiWY_Y1",
    "outputId": "948d53c3-e0b1-4d73-e526-dadd425092d9"
   },
   "outputs": [
    {
     "name": "stderr",
     "output_type": "stream",
     "text": [
      "ERROR:root:Internal Python error in the inspect module.\n",
      "Below is the traceback from this internal error.\n",
      "\n"
     ]
    },
    {
     "name": "stdout",
     "output_type": "stream",
     "text": [
      "Traceback (most recent call last):\n",
      "  File \"C:\\Users\\damic\\anaconda3\\lib\\site-packages\\IPython\\core\\interactiveshell.py\", line 3331, in run_code\n",
      "    exec(code_obj, self.user_global_ns, self.user_ns)\n",
      "  File \"<ipython-input-2-b3198b2150da>\", line 7, in <module>\n",
      "    import tensorflow as tf\n",
      "  File \"C:\\Users\\damic\\anaconda3\\lib\\site-packages\\tensorflow\\__init__.py\", line 101, in <module>\n",
      "    from tensorflow_core import *\n",
      "  File \"C:\\Users\\damic\\anaconda3\\lib\\site-packages\\tensorflow_core\\__init__.py\", line 40, in <module>\n",
      "    from tensorflow.python.tools import module_util as _module_util\n",
      "  File \"C:\\Users\\damic\\anaconda3\\lib\\site-packages\\tensorflow\\__init__.py\", line 50, in __getattr__\n",
      "    module = self._load()\n",
      "  File \"C:\\Users\\damic\\anaconda3\\lib\\site-packages\\tensorflow\\__init__.py\", line 44, in _load\n",
      "    module = _importlib.import_module(self.__name__)\n",
      "  File \"C:\\Users\\damic\\anaconda3\\lib\\importlib\\__init__.py\", line 127, in import_module\n",
      "    return _bootstrap._gcd_import(name[level:], package, level)\n",
      "  File \"C:\\Users\\damic\\anaconda3\\lib\\site-packages\\tensorflow_core\\python\\__init__.py\", line 85, in <module>\n",
      "    from tensorflow.python.ops.standard_ops import *\n",
      "  File \"C:\\Users\\damic\\anaconda3\\lib\\site-packages\\tensorflow_core\\python\\ops\\standard_ops.py\", line 26, in <module>\n",
      "    from tensorflow.python import autograph\n",
      "  File \"C:\\Users\\damic\\anaconda3\\lib\\site-packages\\tensorflow_core\\python\\autograph\\__init__.py\", line 35, in <module>\n",
      "    from tensorflow.python.autograph import operators\n",
      "  File \"C:\\Users\\damic\\anaconda3\\lib\\site-packages\\tensorflow_core\\python\\autograph\\__init__.py\", line 37, in <module>\n",
      "    from tensorflow.python.autograph.core.converter import ConversionOptions\n",
      "  File \"C:\\Users\\damic\\anaconda3\\lib\\site-packages\\tensorflow_core\\python\\autograph\\core\\converter.py\", line 69, in <module>\n",
      "    from tensorflow.python.autograph.pyct import anno\n",
      "  File \"C:\\Users\\damic\\anaconda3\\lib\\site-packages\\tensorflow_core\\python\\autograph\\pyct\\anno.py\", line 27, in <module>\n",
      "    import gast\n",
      "ModuleNotFoundError: No module named 'gast'\n",
      "\n",
      "During handling of the above exception, another exception occurred:\n",
      "\n",
      "Traceback (most recent call last):\n",
      "  File \"C:\\Users\\damic\\anaconda3\\lib\\site-packages\\IPython\\core\\interactiveshell.py\", line 2044, in showtraceback\n",
      "    stb = value._render_traceback_()\n",
      "AttributeError: 'ModuleNotFoundError' object has no attribute '_render_traceback_'\n",
      "\n",
      "During handling of the above exception, another exception occurred:\n",
      "\n",
      "Traceback (most recent call last):\n",
      "  File \"C:\\Users\\damic\\anaconda3\\lib\\site-packages\\IPython\\core\\ultratb.py\", line 1151, in get_records\n",
      "    return _fixed_getinnerframes(etb, number_of_lines_of_context, tb_offset)\n",
      "  File \"C:\\Users\\damic\\anaconda3\\lib\\site-packages\\IPython\\core\\ultratb.py\", line 319, in wrapped\n",
      "    return f(*args, **kwargs)\n",
      "  File \"C:\\Users\\damic\\anaconda3\\lib\\site-packages\\IPython\\core\\ultratb.py\", line 353, in _fixed_getinnerframes\n",
      "    records = fix_frame_records_filenames(inspect.getinnerframes(etb, context))\n",
      "  File \"C:\\Users\\damic\\anaconda3\\lib\\inspect.py\", line 1502, in getinnerframes\n",
      "    frameinfo = (tb.tb_frame,) + getframeinfo(tb, context)\n",
      "  File \"C:\\Users\\damic\\anaconda3\\lib\\inspect.py\", line 1460, in getframeinfo\n",
      "    filename = getsourcefile(frame) or getfile(frame)\n",
      "  File \"C:\\Users\\damic\\anaconda3\\lib\\inspect.py\", line 696, in getsourcefile\n",
      "    if getattr(getmodule(object, filename), '__loader__', None) is not None:\n",
      "  File \"C:\\Users\\damic\\anaconda3\\lib\\inspect.py\", line 733, in getmodule\n",
      "    if ismodule(module) and hasattr(module, '__file__'):\n",
      "  File \"C:\\Users\\damic\\anaconda3\\lib\\site-packages\\tensorflow\\__init__.py\", line 50, in __getattr__\n",
      "    module = self._load()\n",
      "  File \"C:\\Users\\damic\\anaconda3\\lib\\site-packages\\tensorflow\\__init__.py\", line 44, in _load\n",
      "    module = _importlib.import_module(self.__name__)\n",
      "  File \"C:\\Users\\damic\\anaconda3\\lib\\importlib\\__init__.py\", line 127, in import_module\n",
      "    return _bootstrap._gcd_import(name[level:], package, level)\n",
      "  File \"<frozen importlib._bootstrap>\", line 1006, in _gcd_import\n",
      "  File \"<frozen importlib._bootstrap>\", line 983, in _find_and_load\n",
      "  File \"<frozen importlib._bootstrap>\", line 953, in _find_and_load_unlocked\n",
      "  File \"<frozen importlib._bootstrap>\", line 219, in _call_with_frames_removed\n",
      "  File \"<frozen importlib._bootstrap>\", line 1006, in _gcd_import\n",
      "  File \"<frozen importlib._bootstrap>\", line 983, in _find_and_load\n",
      "  File \"<frozen importlib._bootstrap>\", line 967, in _find_and_load_unlocked\n",
      "  File \"<frozen importlib._bootstrap>\", line 677, in _load_unlocked\n",
      "  File \"<frozen importlib._bootstrap_external>\", line 728, in exec_module\n",
      "  File \"<frozen importlib._bootstrap>\", line 219, in _call_with_frames_removed\n",
      "  File \"C:\\Users\\damic\\anaconda3\\lib\\site-packages\\tensorflow_core\\__init__.py\", line 44, in <module>\n",
      "    from . _api.v2 import autograph\n",
      "  File \"C:\\Users\\damic\\anaconda3\\lib\\site-packages\\tensorflow_core\\_api\\v2\\autograph\\__init__.py\", line 22, in <module>\n",
      "    from . import experimental\n",
      "  File \"C:\\Users\\damic\\anaconda3\\lib\\site-packages\\tensorflow_core\\_api\\v2\\autograph\\experimental\\__init__.py\", line 10, in <module>\n",
      "    from tensorflow.python.autograph.core.converter import Feature\n",
      "  File \"C:\\Users\\damic\\anaconda3\\lib\\site-packages\\tensorflow_core\\python\\autograph\\core\\converter.py\", line 69, in <module>\n",
      "    from tensorflow.python.autograph.pyct import anno\n",
      "  File \"C:\\Users\\damic\\anaconda3\\lib\\site-packages\\tensorflow_core\\python\\autograph\\pyct\\anno.py\", line 27, in <module>\n",
      "    import gast\n",
      "ModuleNotFoundError: No module named 'gast'\n"
     ]
    },
    {
     "ename": "ModuleNotFoundError",
     "evalue": "No module named 'gast'",
     "output_type": "error",
     "traceback": [
      "\u001b[1;31m---------------------------------------------------------------------------\u001b[0m"
     ]
    }
   ],
   "source": [
    "import time\n",
    "import re\n",
    "\n",
    "import numpy as np\n",
    "import pandas as pd\n",
    "\n",
    "import tensorflow as tf\n",
    "print(tf.__version__)\n",
    "\n",
    "from matplotlib import pyplot as plt"
   ]
  },
  {
   "cell_type": "code",
   "execution_count": 8,
   "metadata": {
    "colab": {},
    "colab_type": "code",
    "id": "V5YiWU0daYkT"
   },
   "outputs": [],
   "source": [
    "# Read the Divina Commedia\n",
    "with open(\"C:/Users/damic/Desktop/DivinaCommedia.txt\", 'r') as file:\n",
    "    divina_commedia = file.read()\n",
    "\n",
    "# Replace rare characters\n",
    "divina_commedia = divina_commedia.replace(\"ä\", \"a\")\n",
    "divina_commedia = divina_commedia.replace(\"é\", \"è\")\n",
    "divina_commedia = divina_commedia.replace(\"ë\", \"è\")\n",
    "divina_commedia = divina_commedia.replace(\"Ë\", \"E\")\n",
    "divina_commedia = divina_commedia.replace(\"ï\", \"i\")\n",
    "divina_commedia = divina_commedia.replace(\"Ï\", \"I\")\n",
    "divina_commedia = divina_commedia.replace(\"ó\", \"ò\")\n",
    "divina_commedia = divina_commedia.replace(\"ö\", \"o\")\n",
    "divina_commedia = divina_commedia.replace(\"ü\", \"u\")\n",
    "\n",
    "divina_commedia = divina_commedia.replace(\"(\", \"-\")\n",
    "divina_commedia = divina_commedia.replace(\")\", \"-\")\n",
    "divina_commedia = divina_commedia.replace(\"[\", \"\")\n",
    "divina_commedia = divina_commedia.replace(\"]\", \"\")\n",
    "\n",
    "divina_commedia = re.sub(r'[0-9]+', '', divina_commedia)\n",
    "divina_commedia = divina_commedia.replace(\" \\n\", \"\\n\")"
   ]
  },
  {
   "cell_type": "code",
   "execution_count": 9,
   "metadata": {
    "colab": {
     "base_uri": "https://localhost:8080/",
     "height": 34
    },
    "colab_type": "code",
    "id": "ILphRXIXaYrP",
    "outputId": "108f777a-2f35-4b90-a086-42b326022d36"
   },
   "outputs": [
    {
     "name": "stdout",
     "output_type": "stream",
     "text": [
      "551704\n"
     ]
    }
   ],
   "source": [
    "# Check lenght of text\n",
    "print(len(divina_commedia))"
   ]
  },
  {
   "cell_type": "code",
   "execution_count": 10,
   "metadata": {
    "colab": {},
    "colab_type": "code",
    "id": "KwvjeLGWAVE4"
   },
   "outputs": [],
   "source": [
    "# Store unique characters into a dict with numerical encoding\n",
    "unique_chars = list(set(divina_commedia))\n",
    "unique_chars.sort()  # to make sure you get the same encoding at each run\n",
    "\n",
    "# Store them in a dict, associated with a numerical index\n",
    "char2idx = { char[1]: char[0] for char in enumerate(unique_chars) }\n"
   ]
  },
  {
   "cell_type": "code",
   "execution_count": 11,
   "metadata": {
    "colab": {
     "base_uri": "https://localhost:8080/",
     "height": 34
    },
    "colab_type": "code",
    "id": "tkXOJ3LGAVCF",
    "outputId": "b020a397-eafb-4b39-9f76-1d361abd3fb1"
   },
   "outputs": [
    {
     "name": "stdout",
     "output_type": "stream",
     "text": [
      "63\n"
     ]
    }
   ],
   "source": [
    "print(len(char2idx))"
   ]
  },
  {
   "cell_type": "code",
   "execution_count": 12,
   "metadata": {
    "colab": {
     "base_uri": "https://localhost:8080/",
     "height": 1000
    },
    "colab_type": "code",
    "collapsed": true,
    "id": "2sieJxDhAU_V",
    "jupyter": {
     "outputs_hidden": true
    },
    "outputId": "79310734-7f0f-4e6c-c773-258a5358ed9e"
   },
   "outputs": [
    {
     "data": {
      "text/plain": [
       "{'\\n': 0,\n",
       " ' ': 1,\n",
       " '!': 2,\n",
       " '\"': 3,\n",
       " \"'\": 4,\n",
       " ',': 5,\n",
       " '-': 6,\n",
       " '.': 7,\n",
       " ':': 8,\n",
       " ';': 9,\n",
       " '?': 10,\n",
       " 'A': 11,\n",
       " 'B': 12,\n",
       " 'C': 13,\n",
       " 'D': 14,\n",
       " 'E': 15,\n",
       " 'F': 16,\n",
       " 'G': 17,\n",
       " 'H': 18,\n",
       " 'I': 19,\n",
       " 'L': 20,\n",
       " 'M': 21,\n",
       " 'N': 22,\n",
       " 'O': 23,\n",
       " 'P': 24,\n",
       " 'Q': 25,\n",
       " 'R': 26,\n",
       " 'S': 27,\n",
       " 'T': 28,\n",
       " 'U': 29,\n",
       " 'V': 30,\n",
       " 'X': 31,\n",
       " 'Z': 32,\n",
       " 'a': 33,\n",
       " 'b': 34,\n",
       " 'c': 35,\n",
       " 'd': 36,\n",
       " 'e': 37,\n",
       " 'f': 38,\n",
       " 'g': 39,\n",
       " 'h': 40,\n",
       " 'i': 41,\n",
       " 'j': 42,\n",
       " 'l': 43,\n",
       " 'm': 44,\n",
       " 'n': 45,\n",
       " 'o': 46,\n",
       " 'p': 47,\n",
       " 'q': 48,\n",
       " 'r': 49,\n",
       " 's': 50,\n",
       " 't': 51,\n",
       " 'u': 52,\n",
       " 'v': 53,\n",
       " 'x': 54,\n",
       " 'y': 55,\n",
       " 'z': 56,\n",
       " 'È': 57,\n",
       " 'à': 58,\n",
       " 'è': 59,\n",
       " 'ì': 60,\n",
       " 'ò': 61,\n",
       " 'ù': 62}"
      ]
     },
     "execution_count": 12,
     "metadata": {},
     "output_type": "execute_result"
    }
   ],
   "source": [
    "char2idx"
   ]
  },
  {
   "cell_type": "code",
   "execution_count": 13,
   "metadata": {
    "colab": {},
    "colab_type": "code",
    "id": "vk_BqFK4AU9H"
   },
   "outputs": [],
   "source": [
    "def numerical_encoding(text, char_dict):\n",
    "    \"\"\" Text to list of chars, to np.array of numerical idx \"\"\"\n",
    "    chars_list = [ char for char in text ]\n",
    "    chars_list = [ char_dict[char] for char in chars_list ]\n",
    "    chars_list = np.array(chars_list)\n",
    "    return chars_list\n"
   ]
  },
  {
   "cell_type": "code",
   "execution_count": 14,
   "metadata": {
    "colab": {
     "base_uri": "https://localhost:8080/",
     "height": 105
    },
    "colab_type": "code",
    "collapsed": true,
    "id": "r7JpYN9LAU7U",
    "jupyter": {
     "outputs_hidden": true
    },
    "outputId": "79f714c0-a0a6-495f-e900-c39d3b329b77"
   },
   "outputs": [
    {
     "name": "stdout",
     "output_type": "stream",
     "text": [
      "Nel mezzo del cammin di nostra vita\n",
      "\n",
      "becomes:\n",
      "[22 37 43  1 44 37 56 56 46  1 36 37 43  1 35 33 44 44 41 45  1 36 41  1\n",
      " 45 46 50 51 49 33  1 53 41 51 33]\n"
     ]
    }
   ],
   "source": [
    "# Let's see what the first line will look like\n",
    "print(\"{}\".format(divina_commedia[276:311]))\n",
    "print(\"\\nbecomes:\")\n",
    "print(numerical_encoding(divina_commedia[276:311], char2idx))"
   ]
  },
  {
   "cell_type": "code",
   "execution_count": 15,
   "metadata": {
    "colab": {},
    "colab_type": "code",
    "id": "yWcZzOJdG6X9"
   },
   "outputs": [],
   "source": [
    "# Apply it on the whole Comedy\n",
    "encoded_text = numerical_encoding(divina_commedia, char2idx)"
   ]
  },
  {
   "cell_type": "code",
   "execution_count": 16,
   "metadata": {
    "colab": {},
    "colab_type": "code",
    "id": "t41gYByxAU4B"
   },
   "outputs": [],
   "source": [
    "def get_text_matrix(sequence, len_input):\n",
    "    \n",
    "    # create empty matrix\n",
    "    X = np.empty((len(sequence)-len_input, len_input))\n",
    "    \n",
    "    # fill each row/time window from input sequence\n",
    "    for i in range(X.shape[0]):\n",
    "        X[i,:] = sequence[i : i+len_input]\n",
    "        \n",
    "    return X"
   ]
  },
  {
   "cell_type": "code",
   "execution_count": 17,
   "metadata": {
    "colab": {},
    "colab_type": "code",
    "id": "5eazAAQiAk0i"
   },
   "outputs": [],
   "source": [
    "text_matrix = get_text_matrix(encoded_text, 100)"
   ]
  },
  {
   "cell_type": "code",
   "execution_count": 18,
   "metadata": {
    "colab": {
     "base_uri": "https://localhost:8080/",
     "height": 34
    },
    "colab_type": "code",
    "collapsed": true,
    "id": "KonviQjQAk40",
    "jupyter": {
     "outputs_hidden": true
    },
    "outputId": "3d20f758-3088-4645-9aa3-3ee3d4f40823"
   },
   "outputs": [
    {
     "name": "stdout",
     "output_type": "stream",
     "text": [
      "(551604, 100)\n"
     ]
    }
   ],
   "source": [
    "print(text_matrix.shape)"
   ]
  },
  {
   "cell_type": "code",
   "execution_count": 19,
   "metadata": {
    "colab": {
     "base_uri": "https://localhost:8080/",
     "height": 336
    },
    "colab_type": "code",
    "collapsed": true,
    "id": "BaVngDG7AkyU",
    "jupyter": {
     "outputs_hidden": true
    },
    "outputId": "730a7be7-daf2-4eb7-f536-9e281cbc662f"
   },
   "outputs": [
    {
     "name": "stdout",
     "output_type": "stream",
     "text": [
      "100th train sequence:\n",
      "\n",
      "[45. 37.  1. 37.  1. 47. 52. 45. 41. 44. 37. 45. 51. 41.  1. 36. 37.  4.\n",
      "  1. 53. 41. 56. 41.  1. 37.  1. 36. 37.  4.  1. 44. 37. 49. 41. 51. 41.\n",
      "  1. 37.  1. 47. 49. 37. 44. 41.  1. 36. 37.  1. 43. 37.  1. 53. 41. 49.\n",
      " 51. 62.  7.  1. 13. 46. 44. 41. 45. 35. 41. 33.  1. 41. 43.  1. 35. 33.\n",
      " 45. 51. 46.  1. 47. 49. 41. 44. 46.  1. 36. 37.  1. 43. 33.  1. 47. 49.\n",
      " 41. 44. 33.  1. 47. 33. 49. 51. 37.  1.]\n",
      "\n",
      "\n",
      "100th target sequence:\n",
      "\n",
      "[37.  1. 37.  1. 47. 52. 45. 41. 44. 37. 45. 51. 41.  1. 36. 37.  4.  1.\n",
      " 53. 41. 56. 41.  1. 37.  1. 36. 37.  4.  1. 44. 37. 49. 41. 51. 41.  1.\n",
      " 37.  1. 47. 49. 37. 44. 41.  1. 36. 37.  1. 43. 37.  1. 53. 41. 49. 51.\n",
      " 62.  7.  1. 13. 46. 44. 41. 45. 35. 41. 33.  1. 41. 43.  1. 35. 33. 45.\n",
      " 51. 46.  1. 47. 49. 41. 44. 46.  1. 36. 37.  1. 43. 33.  1. 47. 49. 41.\n",
      " 44. 33.  1. 47. 33. 49. 51. 37.  1. 43.]\n"
     ]
    }
   ],
   "source": [
    "print(\"100th train sequence:\\n\")\n",
    "print(text_matrix[ 100, : ])\n",
    "print(\"\\n\\n100th target sequence:\\n\")\n",
    "print(text_matrix[ 101, : ])"
   ]
  },
  {
   "cell_type": "code",
   "execution_count": 20,
   "metadata": {
    "colab": {},
    "colab_type": "code",
    "id": "rFZfbimYAkvk"
   },
   "outputs": [],
   "source": [
    "# size of vocabulary\n",
    "vocab_size = len(char2idx)\n",
    "\n",
    "# size of mini batches during training\n",
    "batch_size = 100\n",
    "\n",
    "# size of training subset at each epoch\n",
    "subset_size = batch_size * 100\n",
    "\n",
    "# vector size of char embeddings\n",
    "embedding_size = 250\n",
    "\n",
    "len_input = 1000   # 200\n",
    "\n",
    "hidden_size = 250  # for Dense() layers"
   ]
  },
  {
   "cell_type": "code",
   "execution_count": 21,
   "metadata": {
    "colab": {},
    "colab_type": "code",
    "id": "A1JqO7rhAktC"
   },
   "outputs": [],
   "source": [
    "from tensorflow.keras.models import Sequential\n",
    "from tensorflow.keras.layers import Embedding, LSTM, Dense\n",
    "from tensorflow.keras.activations import elu, relu, softmax"
   ]
  },
  {
   "cell_type": "code",
   "execution_count": 22,
   "metadata": {
    "colab": {
     "base_uri": "https://localhost:8080/",
     "height": 301
    },
    "colab_type": "code",
    "collapsed": true,
    "id": "mKysyBfpAtUS",
    "jupyter": {
     "outputs_hidden": true
    },
    "outputId": "6d987cb1-40ee-4896-8b41-d52ae0cf70a2"
   },
   "outputs": [
    {
     "name": "stdout",
     "output_type": "stream",
     "text": [
      "WARNING:tensorflow:From C:\\Users\\damic\\anaconda3\\lib\\site-packages\\tensorflow\\python\\keras\\initializers.py:119: calling RandomUniform.__init__ (from tensorflow.python.ops.init_ops) with dtype is deprecated and will be removed in a future version.\n",
      "Instructions for updating:\n",
      "Call initializer instance with the dtype argument instead of passing it to the constructor\n",
      "WARNING:tensorflow:From C:\\Users\\damic\\anaconda3\\lib\\site-packages\\tensorflow\\python\\ops\\init_ops.py:1251: calling VarianceScaling.__init__ (from tensorflow.python.ops.init_ops) with dtype is deprecated and will be removed in a future version.\n",
      "Instructions for updating:\n",
      "Call initializer instance with the dtype argument instead of passing it to the constructor\n",
      "Model: \"sequential\"\n",
      "_________________________________________________________________\n",
      "Layer (type)                 Output Shape              Param #   \n",
      "=================================================================\n",
      "embedding (Embedding)        (100, None, 250)          15750     \n",
      "_________________________________________________________________\n",
      "lstm (LSTM)                  (100, None, 1000)         5004000   \n",
      "_________________________________________________________________\n",
      "dense (Dense)                (100, None, 250)          250250    \n",
      "_________________________________________________________________\n",
      "dense_1 (Dense)              (100, None, 63)           15813     \n",
      "=================================================================\n",
      "Total params: 5,285,813\n",
      "Trainable params: 5,285,813\n",
      "Non-trainable params: 0\n",
      "_________________________________________________________________\n"
     ]
    }
   ],
   "source": [
    "RNN = Sequential([\n",
    "    Embedding(vocab_size, embedding_size,\n",
    "              batch_input_shape=(batch_size, None)),\n",
    "    \n",
    "    LSTM(len_input, return_sequences = True),\n",
    "    \n",
    "    Dense(hidden_size, activation = relu), \n",
    "    \n",
    "    Dense(vocab_size)\n",
    "])\n",
    "\n",
    "RNN.summary()"
   ]
  },
  {
   "cell_type": "code",
   "execution_count": 23,
   "metadata": {
    "colab": {},
    "colab_type": "code",
    "id": "a9Tldq4qAtXr"
   },
   "outputs": [],
   "source": [
    "n_epochs = 100\n",
    "\n",
    "learning_rate = 0.0001\n",
    "optimizer = tf.keras.optimizers.Adam(learning_rate = learning_rate)"
   ]
  },
  {
   "cell_type": "code",
   "execution_count": 24,
   "metadata": {
    "colab": {},
    "colab_type": "code",
    "id": "XUgGeC5ZAtbb"
   },
   "outputs": [],
   "source": [
    "# This is an Autograph function\n",
    "# its decorator makes it a TF op - i.e. much faster\n",
    "@tf.function\n",
    "def train_on_batch(x, y):\n",
    "    with tf.GradientTape() as tape:\n",
    "        current_loss = tf.reduce_mean(\n",
    "            tf.keras.losses.sparse_categorical_crossentropy(\n",
    "                y, RNN(x), from_logits = True))\n",
    "    gradients = tape.gradient(current_loss, RNN.trainable_variables)\n",
    "    optimizer.apply_gradients(zip(gradients, RNN.trainable_variables))\n",
    "    return current_loss"
   ]
  },
  {
   "cell_type": "code",
   "execution_count": 26,
   "metadata": {
    "colab": {
     "base_uri": "https://localhost:8080/",
     "height": 1000
    },
    "colab_type": "code",
    "collapsed": true,
    "id": "8-x5RxKrAtnR",
    "jupyter": {
     "outputs_hidden": true
    },
    "outputId": "526b30d3-af50-4cc4-8356-7c22ea15c7b1"
   },
   "outputs": [
    {
     "name": "stdout",
     "output_type": "stream",
     "text": [
      "0\n"
     ]
    },
    {
     "ename": "AttributeError",
     "evalue": "'Tensor' object has no attribute 'numpy'",
     "output_type": "error",
     "traceback": [
      "\u001b[1;31m---------------------------------------------------------------------------\u001b[0m",
      "\u001b[1;31mAttributeError\u001b[0m                            Traceback (most recent call last)",
      "\u001b[1;32m<ipython-input-26-382abd0a8ab5>\u001b[0m in \u001b[0;36m<module>\u001b[1;34m\u001b[0m\n\u001b[0;32m     18\u001b[0m \u001b[1;33m\u001b[0m\u001b[0m\n\u001b[0;32m     19\u001b[0m     print(\"{}.  \\t  Loss: {}  \\t  Time: {}ss\".format(\n\u001b[1;32m---> 20\u001b[1;33m         epoch+1, current_loss.numpy(), round(time.time()-start, 2)))\n\u001b[0m",
      "\u001b[1;31mAttributeError\u001b[0m: 'Tensor' object has no attribute 'numpy'"
     ]
    }
   ],
   "source": [
    "loss_history = []\n",
    "\n",
    "for epoch in range(n_epochs):\n",
    "    start = time.time()\n",
    "    print(epoch)\n",
    "    # Take subsets of train and target\n",
    "    sample = np.random.randint(0, text_matrix.shape[0]-1, subset_size)\n",
    "    sample_train = text_matrix[ sample , : ]\n",
    "    sample_target = text_matrix[ sample+1 , : ]\n",
    "    \n",
    "    for iteration in range(sample_train.shape[0] // batch_size):\n",
    "        take = iteration * batch_size\n",
    "        x = sample_train[ take:take+batch_size , : ]\n",
    "        y = sample_target[ take:take+batch_size , : ]\n",
    "\n",
    "        current_loss = train_on_batch(x, y)\n",
    "        loss_history.append(current_loss)\n",
    "    \n",
    "    print(\"{}.  \\t  Loss: {}  \\t  Time: {}ss\".format(\n",
    "        epoch+1, current_loss.numpy(), round(time.time()-start, 2)))"
   ]
  },
  {
   "cell_type": "code",
   "execution_count": 20,
   "metadata": {
    "colab": {
     "base_uri": "https://localhost:8080/",
     "height": 281
    },
    "colab_type": "code",
    "collapsed": true,
    "id": "R6uAhmV2Atth",
    "jupyter": {
     "outputs_hidden": true
    },
    "outputId": "407b71d5-18bf-49e9-ec14-1ecf8def79b4"
   },
   "outputs": [
    {
     "data": {
      "image/png": "[encoded data removed]",
      "text/plain": [
       "<Figure size 432x288 with 1 Axes>"
      ]
     },
     "metadata": {
      "tags": []
     },
     "output_type": "display_data"
    }
   ],
   "source": [
    "plt.plot(loss_history)\n",
    "plt.title(\"Training Loss\")\n",
    "plt.show()"
   ]
  },
  {
   "cell_type": "code",
   "execution_count": null,
   "metadata": {
    "colab": {},
    "colab_type": "code",
    "id": "FCsDapUTBBrE"
   },
   "outputs": [],
   "source": [
    "RNN.save(current_path + \"models/text_generator_RNN_00.h5\")"
   ]
  },
  {
   "cell_type": "code",
   "execution_count": 22,
   "metadata": {
    "colab": {
     "base_uri": "https://localhost:8080/",
     "height": 301
    },
    "colab_type": "code",
    "collapsed": true,
    "id": "69aV7FGVAtxY",
    "jupyter": {
     "outputs_hidden": true,
     "source_hidden": true
    },
    "outputId": "87c106a7-f0cf-4bf4-8507-13551f88d290"
   },
   "outputs": [
    {
     "name": "stdout",
     "output_type": "stream",
     "text": [
      "Model: \"sequential_1\"\n",
      "_________________________________________________________________\n",
      "Layer (type)                 Output Shape              Param #   \n",
      "=================================================================\n",
      "embedding_1 (Embedding)      (1, None, 250)            15750     \n",
      "_________________________________________________________________\n",
      "lstm_1 (LSTM)                (1, None, 1000)           5004000   \n",
      "_________________________________________________________________\n",
      "dense_2 (Dense)              (1, None, 250)            250250    \n",
      "_________________________________________________________________\n",
      "dense_3 (Dense)              (1, None, 63)             15813     \n",
      "=================================================================\n",
      "Total params: 5,285,813\n",
      "Trainable params: 5,285,813\n",
      "Non-trainable params: 0\n",
      "_________________________________________________________________\n"
     ]
    }
   ],
   "source": [
    "generator = Sequential([\n",
    "    Embedding(vocab_size, embedding_size,\n",
    "              batch_input_shape=(1, None)),\n",
    "    \n",
    "    LSTM(len_input, return_sequences = True, stateful=True),\n",
    "    \n",
    "    Dense(hidden_size, activation = relu), \n",
    "    \n",
    "    Dense(vocab_size)\n",
    "])\n",
    "\n",
    "generator.summary()"
   ]
  },
  {
   "cell_type": "code",
   "execution_count": null,
   "metadata": {
    "colab": {},
    "colab_type": "code",
    "id": "whB1azhVAtrp",
    "jupyter": {
     "source_hidden": true
    }
   },
   "outputs": [],
   "source": [
    "# Import trained weights from RNN to generator\n",
    "generator.set_weights(RNN.get_weights())"
   ]
  },
  {
   "cell_type": "code",
   "execution_count": null,
   "metadata": {
    "colab": {},
    "colab_type": "code",
    "id": "vE2hYSqAAtkn",
    "jupyter": {
     "source_hidden": true
    }
   },
   "outputs": [],
   "source": [
    "def generate_text(start_string, num_generate = 1000, temperature = 1.0):\n",
    "    \n",
    "    # Vectorize input string\n",
    "    input_eval = [char2idx[s] for s in start_string]  \n",
    "    input_eval = tf.expand_dims(input_eval, 0)\n",
    "    \n",
    "    text_generated = [] # List to append predicted chars \n",
    "    \n",
    "    idx2char = { v: k for k, v in char2idx.items() }  # invert char-index mapping\n",
    "    \n",
    "    generator.reset_states()\n",
    "    \n",
    "    for i in range(num_generate):\n",
    "        predictions = generator(input_eval)\n",
    "        predictions = tf.squeeze(predictions, 0)\n",
    "        \n",
    "        # sample next char based on distribution and temperature\n",
    "        predictions = predictions / temperature\n",
    "        predicted_id = tf.random.categorical(predictions, num_samples=1)[-1,0].numpy()\n",
    "        \n",
    "        input_eval = tf.expand_dims([predicted_id], 0)\n",
    "\n",
    "        text_generated.append(idx2char[predicted_id])\n",
    "        \n",
    "    return (start_string + ''.join(text_generated))\n"
   ]
  }
 ],
 "metadata": {
  "accelerator": "GPU",
  "colab": {
   "authorship_tag": "ABX9TyOEZEYhXCzaOY4YC7IIdsvh",
   "collapsed_sections": [],
   "name": "RNN_text_generator_00.ipynb",
   "provenance": []
  },
  "kernelspec": {
   "display_name": "Python 3",
   "language": "python",
   "name": "python3"
  },
  "language_info": {
   "codemirror_mode": {
    "name": "ipython",
    "version": 3
   },
   "file_extension": ".py",
   "mimetype": "text/x-python",
   "name": "python",
   "nbconvert_exporter": "python",
   "pygments_lexer": "ipython3",
   "version": "3.8.2"
  }
 },
 "nbformat": 4,
 "nbformat_minor": 4
}
