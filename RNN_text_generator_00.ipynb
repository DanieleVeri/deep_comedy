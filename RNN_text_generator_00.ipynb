{
  "nbformat": 4,
  "nbformat_minor": 0,
  "metadata": {
    "accelerator": "GPU",
    "colab": {
      "name": "RNN_text_generator_00.ipynb",
      "provenance": [],
      "collapsed_sections": []
    },
    "kernelspec": {
      "display_name": "Python 3",
      "language": "python",
      "name": "python3"
    },
    "language_info": {
      "codemirror_mode": {
        "name": "ipython",
        "version": 3
      },
      "file_extension": ".py",
      "mimetype": "text/x-python",
      "name": "python",
      "nbconvert_exporter": "python",
      "pygments_lexer": "ipython3",
      "version": "3.8.2"
    }
  },
  "cells": [
    {
      "cell_type": "code",
      "metadata": {
        "colab_type": "code",
        "id": "R8FnhxiWY_Y1",
        "outputId": "10267b21-f2ff-4746-fb8d-e68b91cdfa20",
        "colab": {
          "base_uri": "https://localhost:8080/",
          "height": 35
        }
      },
      "source": [
        "import time\n",
        "import re\n",
        "\n",
        "import numpy as np\n",
        "import pandas as pd\n",
        "\n",
        "import tensorflow as tf\n",
        "print(tf.__version__)\n",
        "\n",
        "from matplotlib import pyplot as plt"
      ],
      "execution_count": 33,
      "outputs": [
        {
          "output_type": "stream",
          "text": [
            "2.2.0-rc4\n"
          ],
          "name": "stdout"
        }
      ]
    },
    {
      "cell_type": "code",
      "metadata": {
        "colab_type": "code",
        "id": "V5YiWU0daYkT",
        "colab": {}
      },
      "source": [
        "# Read the Divina Commedia\n",
        "import requests\n",
        "url = \"https://raw.githubusercontent.com/DanieleVeri/deep_comedy/master/divina_commedia.txt\"\n",
        "response = requests.get(url)\n",
        "\n",
        "divina_commedia = response.text\n",
        "\n",
        "# Replace rare characters\n",
        "divina_commedia = divina_commedia.replace(\"ä\", \"a\")\n",
        "divina_commedia = divina_commedia.replace(\"é\", \"è\")\n",
        "divina_commedia = divina_commedia.replace(\"ë\", \"è\")\n",
        "divina_commedia = divina_commedia.replace(\"Ë\", \"E\")\n",
        "divina_commedia = divina_commedia.replace(\"ï\", \"i\")\n",
        "divina_commedia = divina_commedia.replace(\"Ï\", \"I\")\n",
        "divina_commedia = divina_commedia.replace(\"ó\", \"ò\")\n",
        "divina_commedia = divina_commedia.replace(\"ö\", \"o\")\n",
        "divina_commedia = divina_commedia.replace(\"ü\", \"u\")\n",
        "\n",
        "divina_commedia = divina_commedia.replace(\"(\", \"-\")\n",
        "divina_commedia = divina_commedia.replace(\")\", \"-\")\n",
        "divina_commedia = divina_commedia.replace(\"[\", \"\")\n",
        "divina_commedia = divina_commedia.replace(\"]\", \"\")\n",
        "\n",
        "divina_commedia = re.sub(r'[0-9]+', '', divina_commedia)\n",
        "divina_commedia = divina_commedia.replace(\" \\n\", \"\\n\")"
      ],
      "execution_count": 0,
      "outputs": []
    },
    {
      "cell_type": "code",
      "metadata": {
        "colab_type": "code",
        "id": "ILphRXIXaYrP",
        "outputId": "56b1e8e4-5dd5-4379-ca5e-402c5eb4108a",
        "colab": {
          "base_uri": "https://localhost:8080/",
          "height": 35
        }
      },
      "source": [
        "# Check lenght of text\n",
        "print(len(divina_commedia))"
      ],
      "execution_count": 35,
      "outputs": [
        {
          "output_type": "stream",
          "text": [
            "537023\n"
          ],
          "name": "stdout"
        }
      ]
    },
    {
      "cell_type": "code",
      "metadata": {
        "colab_type": "code",
        "id": "KwvjeLGWAVE4",
        "colab": {}
      },
      "source": [
        "# Store unique characters into a dict with numerical encoding\n",
        "unique_chars = list(set(divina_commedia))\n",
        "unique_chars.sort()  # to make sure you get the same encoding at each run\n",
        "\n",
        "# Store them in a dict, associated with a numerical index\n",
        "char2idx = { char[1]: char[0] for char in enumerate(unique_chars) }\n"
      ],
      "execution_count": 0,
      "outputs": []
    },
    {
      "cell_type": "code",
      "metadata": {
        "colab_type": "code",
        "id": "tkXOJ3LGAVCF",
        "outputId": "7de303cf-3401-4e4c-97b3-645dc73701ae",
        "colab": {
          "base_uri": "https://localhost:8080/",
          "height": 35
        }
      },
      "source": [
        "print(len(char2idx))"
      ],
      "execution_count": 37,
      "outputs": [
        {
          "output_type": "stream",
          "text": [
            "63\n"
          ],
          "name": "stdout"
        }
      ]
    },
    {
      "cell_type": "code",
      "metadata": {
        "colab_type": "code",
        "collapsed": true,
        "id": "2sieJxDhAU_V",
        "jupyter": {
          "outputs_hidden": true
        },
        "outputId": "10dc2cbf-e08b-4095-ec15-696b3857f521",
        "colab": {
          "base_uri": "https://localhost:8080/",
          "height": 1000
        }
      },
      "source": [
        "char2idx"
      ],
      "execution_count": 38,
      "outputs": [
        {
          "output_type": "execute_result",
          "data": {
            "text/plain": [
              "{'\\n': 0,\n",
              " ' ': 1,\n",
              " '!': 2,\n",
              " '\"': 3,\n",
              " \"'\": 4,\n",
              " ',': 5,\n",
              " '-': 6,\n",
              " '.': 7,\n",
              " ':': 8,\n",
              " ';': 9,\n",
              " '?': 10,\n",
              " 'A': 11,\n",
              " 'B': 12,\n",
              " 'C': 13,\n",
              " 'D': 14,\n",
              " 'E': 15,\n",
              " 'F': 16,\n",
              " 'G': 17,\n",
              " 'H': 18,\n",
              " 'I': 19,\n",
              " 'L': 20,\n",
              " 'M': 21,\n",
              " 'N': 22,\n",
              " 'O': 23,\n",
              " 'P': 24,\n",
              " 'Q': 25,\n",
              " 'R': 26,\n",
              " 'S': 27,\n",
              " 'T': 28,\n",
              " 'U': 29,\n",
              " 'V': 30,\n",
              " 'X': 31,\n",
              " 'Z': 32,\n",
              " 'a': 33,\n",
              " 'b': 34,\n",
              " 'c': 35,\n",
              " 'd': 36,\n",
              " 'e': 37,\n",
              " 'f': 38,\n",
              " 'g': 39,\n",
              " 'h': 40,\n",
              " 'i': 41,\n",
              " 'j': 42,\n",
              " 'l': 43,\n",
              " 'm': 44,\n",
              " 'n': 45,\n",
              " 'o': 46,\n",
              " 'p': 47,\n",
              " 'q': 48,\n",
              " 'r': 49,\n",
              " 's': 50,\n",
              " 't': 51,\n",
              " 'u': 52,\n",
              " 'v': 53,\n",
              " 'x': 54,\n",
              " 'y': 55,\n",
              " 'z': 56,\n",
              " '~': 57,\n",
              " 'à': 58,\n",
              " 'è': 59,\n",
              " 'ì': 60,\n",
              " 'ò': 61,\n",
              " 'ù': 62}"
            ]
          },
          "metadata": {
            "tags": []
          },
          "execution_count": 38
        }
      ]
    },
    {
      "cell_type": "code",
      "metadata": {
        "colab_type": "code",
        "id": "vk_BqFK4AU9H",
        "colab": {}
      },
      "source": [
        "def numerical_encoding(text, char_dict):\n",
        "    \"\"\" Text to list of chars, to np.array of numerical idx \"\"\"\n",
        "    chars_list = [ char for char in text ]\n",
        "    chars_list = [ char_dict[char] for char in chars_list ]\n",
        "    chars_list = np.array(chars_list)\n",
        "    return chars_list\n"
      ],
      "execution_count": 0,
      "outputs": []
    },
    {
      "cell_type": "code",
      "metadata": {
        "colab_type": "code",
        "collapsed": true,
        "id": "r7JpYN9LAU7U",
        "jupyter": {
          "outputs_hidden": true
        },
        "outputId": "c4cae5fa-2eba-4ba4-ef49-60723ed85b4a",
        "colab": {
          "base_uri": "https://localhost:8080/",
          "height": 126
        }
      },
      "source": [
        "# Let's see what the first line will look like\n",
        "print(\"{}\".format(divina_commedia[276:311]))\n",
        "print(\"\\nbecomes:\")\n",
        "print(numerical_encoding(divina_commedia[276:311], char2idx))"
      ],
      "execution_count": 40,
      "outputs": [
        {
          "output_type": "stream",
          "text": [
            "ura!\n",
            "  Tant'è amara che poco è più \n",
            "\n",
            "becomes:\n",
            "[52 49 33  2  0  1  1 28 33 45 51  4 59  1 33 44 33 49 33  1 35 40 37  1\n",
            " 47 46 35 46  1 59  1 47 41 62  1]\n"
          ],
          "name": "stdout"
        }
      ]
    },
    {
      "cell_type": "code",
      "metadata": {
        "colab_type": "code",
        "id": "yWcZzOJdG6X9",
        "colab": {}
      },
      "source": [
        "# Apply it on the whole Comedy\n",
        "encoded_text = numerical_encoding(divina_commedia, char2idx)"
      ],
      "execution_count": 0,
      "outputs": []
    },
    {
      "cell_type": "code",
      "metadata": {
        "colab_type": "code",
        "id": "t41gYByxAU4B",
        "colab": {}
      },
      "source": [
        "def get_text_matrix(sequence, len_input):\n",
        "    \n",
        "    # create empty matrix\n",
        "    X = np.empty((len(sequence)-len_input, len_input))\n",
        "    \n",
        "    # fill each row/time window from input sequence\n",
        "    for i in range(X.shape[0]):\n",
        "        X[i,:] = sequence[i : i+len_input]\n",
        "        \n",
        "    return X"
      ],
      "execution_count": 0,
      "outputs": []
    },
    {
      "cell_type": "code",
      "metadata": {
        "colab_type": "code",
        "id": "5eazAAQiAk0i",
        "colab": {}
      },
      "source": [
        "text_matrix = get_text_matrix(encoded_text, 100)"
      ],
      "execution_count": 0,
      "outputs": []
    },
    {
      "cell_type": "code",
      "metadata": {
        "colab_type": "code",
        "id": "KonviQjQAk40",
        "jupyter": {
          "outputs_hidden": true
        },
        "colab": {
          "base_uri": "https://localhost:8080/",
          "height": 35
        },
        "outputId": "e5391915-d29f-4992-d98b-9f65ac3190e7"
      },
      "source": [
        "print(text_matrix.shape)"
      ],
      "execution_count": 44,
      "outputs": [
        {
          "output_type": "stream",
          "text": [
            "(536923, 100)\n"
          ],
          "name": "stdout"
        }
      ]
    },
    {
      "cell_type": "code",
      "metadata": {
        "colab_type": "code",
        "id": "BaVngDG7AkyU",
        "jupyter": {
          "outputs_hidden": true
        },
        "colab": {
          "base_uri": "https://localhost:8080/",
          "height": 345
        },
        "outputId": "2d0664f0-f542-4236-86ca-501cd9dfa4e9"
      },
      "source": [
        "print(\"100th train sequence:\\n\")\n",
        "print(text_matrix[ 100, : ])\n",
        "print(\"\\n\\n100th target sequence:\\n\")\n",
        "print(text_matrix[ 101, : ])"
      ],
      "execution_count": 45,
      "outputs": [
        {
          "output_type": "stream",
          "text": [
            "100th train sequence:\n",
            "\n",
            "[53. 41. 51. 33.  0. 44. 41.  1. 49. 41. 51. 49. 46. 53. 33. 41.  1. 47.\n",
            " 37. 49.  1. 52. 45. 33.  1. 50. 37. 43. 53. 33.  1. 46. 50. 35. 52. 49.\n",
            " 33.  0. 35. 40. 59.  1. 43. 33.  1. 36. 41. 49. 41. 51. 51. 33.  1. 53.\n",
            " 41. 33.  1. 37. 49. 33.  1. 50. 44. 33. 49. 49. 41. 51. 33.  7.  0.  1.\n",
            "  1. 11. 40. 41.  1. 48. 52. 33. 45. 51. 46.  1. 33.  1. 36. 41. 49.  1.\n",
            " 48. 52. 33. 43.  1. 37. 49. 33.  1. 59.]\n",
            "\n",
            "\n",
            "100th target sequence:\n",
            "\n",
            "[41. 51. 33.  0. 44. 41.  1. 49. 41. 51. 49. 46. 53. 33. 41.  1. 47. 37.\n",
            " 49.  1. 52. 45. 33.  1. 50. 37. 43. 53. 33.  1. 46. 50. 35. 52. 49. 33.\n",
            "  0. 35. 40. 59.  1. 43. 33.  1. 36. 41. 49. 41. 51. 51. 33.  1. 53. 41.\n",
            " 33.  1. 37. 49. 33.  1. 50. 44. 33. 49. 49. 41. 51. 33.  7.  0.  1.  1.\n",
            " 11. 40. 41.  1. 48. 52. 33. 45. 51. 46.  1. 33.  1. 36. 41. 49.  1. 48.\n",
            " 52. 33. 43.  1. 37. 49. 33.  1. 59.  1.]\n"
          ],
          "name": "stdout"
        }
      ]
    },
    {
      "cell_type": "code",
      "metadata": {
        "colab_type": "code",
        "id": "rFZfbimYAkvk",
        "colab": {}
      },
      "source": [
        "# size of vocabulary\n",
        "vocab_size = len(char2idx)\n",
        "\n",
        "# size of mini batches during training\n",
        "batch_size = 100\n",
        "\n",
        "# size of training subset at each epoch\n",
        "subset_size = batch_size * 100\n",
        "\n",
        "# vector size of char embeddings\n",
        "embedding_size = 250\n",
        "\n",
        "len_input = 1000   # 200\n",
        "\n",
        "hidden_size = 250  # for Dense() layers"
      ],
      "execution_count": 0,
      "outputs": []
    },
    {
      "cell_type": "code",
      "metadata": {
        "colab_type": "code",
        "id": "A1JqO7rhAktC",
        "colab": {}
      },
      "source": [
        "from tensorflow.keras.models import Sequential\n",
        "from tensorflow.keras.layers import Embedding, LSTM, Dense\n",
        "from tensorflow.keras.activations import elu, relu, softmax"
      ],
      "execution_count": 0,
      "outputs": []
    },
    {
      "cell_type": "code",
      "metadata": {
        "id": "rXaXcAN96Qy9",
        "colab_type": "code",
        "colab": {}
      },
      "source": [
        ""
      ],
      "execution_count": 0,
      "outputs": []
    },
    {
      "cell_type": "code",
      "metadata": {
        "colab_type": "code",
        "id": "mKysyBfpAtUS",
        "jupyter": {
          "outputs_hidden": true
        },
        "colab": {
          "base_uri": "https://localhost:8080/",
          "height": 308
        },
        "outputId": "890a62cc-1210-4127-ba98-4bac90aa5f8f"
      },
      "source": [
        "RNN = Sequential([\n",
        "    Embedding(vocab_size, embedding_size,\n",
        "              batch_input_shape=(batch_size, None)),\n",
        "    \n",
        "    LSTM(len_input, return_sequences = True),\n",
        "    \n",
        "    Dense(hidden_size, activation = relu), \n",
        "    \n",
        "    Dense(vocab_size)\n",
        "])\n",
        "\n",
        "RNN.summary()"
      ],
      "execution_count": 48,
      "outputs": [
        {
          "output_type": "stream",
          "text": [
            "Model: \"sequential_2\"\n",
            "_________________________________________________________________\n",
            "Layer (type)                 Output Shape              Param #   \n",
            "=================================================================\n",
            "embedding_2 (Embedding)      (100, None, 250)          15750     \n",
            "_________________________________________________________________\n",
            "lstm_2 (LSTM)                (100, None, 1000)         5004000   \n",
            "_________________________________________________________________\n",
            "dense_4 (Dense)              (100, None, 250)          250250    \n",
            "_________________________________________________________________\n",
            "dense_5 (Dense)              (100, None, 63)           15813     \n",
            "=================================================================\n",
            "Total params: 5,285,813\n",
            "Trainable params: 5,285,813\n",
            "Non-trainable params: 0\n",
            "_________________________________________________________________\n"
          ],
          "name": "stdout"
        }
      ]
    },
    {
      "cell_type": "code",
      "metadata": {
        "colab_type": "code",
        "id": "a9Tldq4qAtXr",
        "colab": {}
      },
      "source": [
        "n_epochs = 10\n",
        "\n",
        "learning_rate = 0.0001\n",
        "optimizer = tf.keras.optimizers.Adam(learning_rate = learning_rate)"
      ],
      "execution_count": 0,
      "outputs": []
    },
    {
      "cell_type": "code",
      "metadata": {
        "colab_type": "code",
        "id": "XUgGeC5ZAtbb",
        "colab": {}
      },
      "source": [
        "# This is an Autograph function\n",
        "# its decorator makes it a TF op - i.e. much faster\n",
        "@tf.function\n",
        "def train_on_batch(x, y):\n",
        "    with tf.GradientTape() as tape:\n",
        "        current_loss = tf.reduce_mean(\n",
        "            tf.keras.losses.sparse_categorical_crossentropy(\n",
        "                y, RNN(x), from_logits = True))\n",
        "    gradients = tape.gradient(current_loss, RNN.trainable_variables)\n",
        "    optimizer.apply_gradients(zip(gradients, RNN.trainable_variables))\n",
        "    return current_loss"
      ],
      "execution_count": 0,
      "outputs": []
    },
    {
      "cell_type": "code",
      "metadata": {
        "colab_type": "code",
        "id": "8-x5RxKrAtnR",
        "jupyter": {
          "outputs_hidden": true
        },
        "colab": {
          "base_uri": "https://localhost:8080/",
          "height": 381
        },
        "outputId": "4a314753-d5c5-44c0-ceb5-16185f21e5fb"
      },
      "source": [
        "loss_history = []\n",
        "\n",
        "for epoch in range(n_epochs):\n",
        "    start = time.time()\n",
        "    print(epoch)\n",
        "    # Take subsets of train and target\n",
        "    sample = np.random.randint(0, text_matrix.shape[0]-1, subset_size)\n",
        "    sample_train = text_matrix[ sample , : ]\n",
        "    sample_target = text_matrix[ sample+1 , : ]\n",
        "    \n",
        "    for iteration in range(sample_train.shape[0] // batch_size):\n",
        "        take = iteration * batch_size\n",
        "        x = sample_train[ take:take+batch_size , : ]\n",
        "        y = sample_target[ take:take+batch_size , : ]\n",
        "\n",
        "        current_loss = train_on_batch(x, y)\n",
        "        loss_history.append(current_loss)\n",
        "    \n",
        "    print(\"{}.  \\t  Loss: {}  \\t  Time: {}ss\".format(\n",
        "        epoch+1, current_loss.numpy(), round(time.time()-start, 2)))"
      ],
      "execution_count": 51,
      "outputs": [
        {
          "output_type": "stream",
          "text": [
            "0\n",
            "1.  \t  Loss: 3.063734292984009  \t  Time: 9.22ss\n",
            "1\n",
            "2.  \t  Loss: 2.945369243621826  \t  Time: 7.61ss\n",
            "2\n",
            "3.  \t  Loss: 2.6483139991760254  \t  Time: 7.53ss\n",
            "3\n",
            "4.  \t  Loss: 2.4748597145080566  \t  Time: 7.52ss\n",
            "4\n",
            "5.  \t  Loss: 2.393888473510742  \t  Time: 7.54ss\n",
            "5\n",
            "6.  \t  Loss: 2.320936441421509  \t  Time: 7.54ss\n",
            "6\n",
            "7.  \t  Loss: 2.227619171142578  \t  Time: 7.55ss\n",
            "7\n",
            "8.  \t  Loss: 2.2035419940948486  \t  Time: 7.54ss\n",
            "8\n",
            "9.  \t  Loss: 2.1737520694732666  \t  Time: 7.55ss\n",
            "9\n",
            "10.  \t  Loss: 2.107570171356201  \t  Time: 7.57ss\n"
          ],
          "name": "stdout"
        }
      ]
    },
    {
      "cell_type": "code",
      "metadata": {
        "colab_type": "code",
        "id": "R6uAhmV2Atth",
        "jupyter": {
          "outputs_hidden": true
        },
        "colab": {
          "base_uri": "https://localhost:8080/",
          "height": 281
        },
        "outputId": "d718c0fc-b3de-48ca-f51c-c6dfb8da6880"
      },
      "source": [
        "plt.plot(loss_history)\n",
        "plt.title(\"Training Loss\")\n",
        "plt.show()"
      ],
      "execution_count": 52,
      "outputs": [
        {
          "output_type": "display_data",
          "data": {
            "image/png": "[encoded data removed]",
            "text/plain": [
              "<Figure size 432x288 with 1 Axes>"
            ]
          },
          "metadata": {
            "tags": [],
            "needs_background": "light"
          }
        }
      ]
    },
    {
      "cell_type": "code",
      "metadata": {
        "colab_type": "code",
        "id": "FCsDapUTBBrE",
        "colab": {}
      },
      "source": [
        "RNN.save(\"/text_generator_RNN_00.h5\")"
      ],
      "execution_count": 0,
      "outputs": []
    },
    {
      "cell_type": "code",
      "metadata": {
        "colab_type": "code",
        "id": "69aV7FGVAtxY",
        "jupyter": {
          "outputs_hidden": true,
          "source_hidden": true
        },
        "colab": {
          "base_uri": "https://localhost:8080/",
          "height": 308
        },
        "outputId": "b3d0cd45-30cf-422f-f0b8-562dc7bd2122"
      },
      "source": [
        "generator = Sequential([\n",
        "    Embedding(vocab_size, embedding_size,\n",
        "              batch_input_shape=(1, None)),\n",
        "    \n",
        "    LSTM(len_input, return_sequences = True, stateful=True),\n",
        "    \n",
        "    Dense(hidden_size, activation = relu), \n",
        "    \n",
        "    Dense(vocab_size)\n",
        "])\n",
        "\n",
        "generator.summary()"
      ],
      "execution_count": 54,
      "outputs": [
        {
          "output_type": "stream",
          "text": [
            "Model: \"sequential_3\"\n",
            "_________________________________________________________________\n",
            "Layer (type)                 Output Shape              Param #   \n",
            "=================================================================\n",
            "embedding_3 (Embedding)      (1, None, 250)            15750     \n",
            "_________________________________________________________________\n",
            "lstm_3 (LSTM)                (1, None, 1000)           5004000   \n",
            "_________________________________________________________________\n",
            "dense_6 (Dense)              (1, None, 250)            250250    \n",
            "_________________________________________________________________\n",
            "dense_7 (Dense)              (1, None, 63)             15813     \n",
            "=================================================================\n",
            "Total params: 5,285,813\n",
            "Trainable params: 5,285,813\n",
            "Non-trainable params: 0\n",
            "_________________________________________________________________\n"
          ],
          "name": "stdout"
        }
      ]
    },
    {
      "cell_type": "code",
      "metadata": {
        "colab_type": "code",
        "id": "whB1azhVAtrp",
        "jupyter": {
          "source_hidden": true
        },
        "colab": {}
      },
      "source": [
        "# Import trained weights from RNN to generator\n",
        "generator.set_weights(RNN.get_weights())"
      ],
      "execution_count": 0,
      "outputs": []
    },
    {
      "cell_type": "code",
      "metadata": {
        "colab_type": "code",
        "id": "vE2hYSqAAtkn",
        "jupyter": {
          "source_hidden": true
        },
        "colab": {
          "base_uri": "https://localhost:8080/",
          "height": 545
        },
        "outputId": "6302711d-ba1f-4893-f159-746679a2c05f"
      },
      "source": [
        "def generate_text(start_string, num_generate = 1000, temperature = 1.0):\n",
        "    \n",
        "    # Vectorize input string\n",
        "    input_eval = [char2idx[s] for s in start_string]  \n",
        "    input_eval = tf.expand_dims(input_eval, 0)\n",
        "    \n",
        "    text_generated = [] # List to append predicted chars \n",
        "    \n",
        "    idx2char = { v: k for k, v in char2idx.items() }  # invert char-index mapping\n",
        "    \n",
        "    generator.reset_states()\n",
        "    \n",
        "    for i in range(num_generate):\n",
        "        predictions = generator(input_eval)\n",
        "        predictions = tf.squeeze(predictions, 0)\n",
        "        \n",
        "        # sample next char based on distribution and temperature\n",
        "        predictions = predictions / temperature\n",
        "        predicted_id = tf.random.categorical(predictions, num_samples=1)[-1,0].numpy()\n",
        "        \n",
        "        input_eval = tf.expand_dims([predicted_id], 0)\n",
        "\n",
        "        text_generated.append(idx2char[predicted_id])\n",
        "        \n",
        "    return (start_string + ''.join(text_generated))\n",
        "\n",
        "init=\"\"\"\n",
        "Nel mezzo del cammin di nostra vita\n",
        "mi ritrovai per una selva oscura,\n",
        "chè la diritta via era smarrita.\n",
        "\"\"\"\n",
        "print(generate_text(init))\n"
      ],
      "execution_count": 57,
      "outputs": [
        {
          "output_type": "stream",
          "text": [
            "\n",
            "Nel mezzo del cammin di nostra vita\n",
            "mi ritrovai per una selva oscura,\n",
            "chè la diritta via era smarrita.\n",
            "  Quul bua pia iu dissetsa la lo lar.\n",
            "  Ana pasgia di sì con che voòttarse\n",
            "per comarti da cretante perto\n",
            "didi\n",
            "querta gimpea pere sunarera per'ndo.\n",
            "  mer l'amle di arno d'siol i quante suosri.\n",
            "  On pieco\"lo ì D'anno, a pino chò de pisme\n",
            "mi sel a stia el quale piailartò smiersra.\n",
            "  Li sosceldlri er econi matnandi carpiando\n",
            "di sizi mi'ue l'elo alatri quormo,\n",
            " i lo soce palta peBangurozzo ni:\n",
            "sorterdettra fatbe piel al banto\n",
            "pie late cogil gàlla padro e pretanza\n",
            "lon ostuo te guntro,  luò nondio nontro\n",
            "l sentpara favie lan fati eu srastimi\n",
            "che l' tonttaa seuna i verle de l'lapa di poima veragari, perlte un to anpita\n",
            "li suri i sossopere gral'ali chinorto\n",
            "pandan eval guista no quel lu tarne.\n",
            " \"Ota, piiminno annini dimo quen dolte cTeso\n",
            "di per mion dissa.\n",
            "  Diono liotsta matarno.\n",
            "  \"vi poice dancha  me li li sistuvi.\n",
            "  do ti suadi letardo cove:  Dimer chi omve sì chii fit'ame chè dievo, tè foco l'addero, què qu'lollo a nonsun vinemi,\n",
            "lale lrhommati\n",
            "a Coscha sorse 'lutta e n'pa quonve altea ves\n"
          ],
          "name": "stdout"
        }
      ]
    }
  ]
}